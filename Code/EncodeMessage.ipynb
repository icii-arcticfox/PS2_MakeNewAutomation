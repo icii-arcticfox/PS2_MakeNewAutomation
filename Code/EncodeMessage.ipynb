{
	"cells": [
		{
			"cell_type": "code",
			"execution_count": null,
			"id": "23726735",
			"metadata": {},
			"outputs": [],
			"source": []
		},
		{
			"cell_type": "code",
			"execution_count": null,
			"id": "33cad526",
			"metadata": {},
			"outputs": [],
			"source": [
				"story = 'Barkley revved the engine, paws gripping the wheel. His furry friends buckled up as he wagged his tail, ready for a road trip adventure.'\n",
				"encodedStory = ''"
			]
		},
		{
			"cell_type": "code",
			"execution_count": null,
			"id": "12ba3551",
			"metadata": {},
			"outputs": [],
			"source": [
				"for i in range(story.index('His'), 500):\n",
				"    encodedStory += chr(ord(story[i]) + 1)"
			]
		},
		{
			"cell_type": "code",
			"execution_count": null,
			"id": "f325ad8e",
			"metadata": {},
			"outputs": [],
			"source": [
				"print(encodedStory)"
			]
		},
		{
			"cell_type": "code",
			"execution_count": null,
			"id": "508c3693",
			"metadata": {},
			"outputs": [],
			"source": []
		}
	],
	"metadata": {
		"language_info": {
			"name": "python"
		},
		"orig_nbformat": 4
	},
	"nbformat": 4,
	"nbformat_minor": 5
}
