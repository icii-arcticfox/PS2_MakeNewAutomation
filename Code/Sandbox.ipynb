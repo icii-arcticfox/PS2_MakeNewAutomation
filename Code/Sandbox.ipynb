{
	"cells": [
		{
			"cell_type": "code",
			"execution_count": null,
			"id": "146b1e5c",
			"metadata": {},
			"outputs": [],
			"source": [
				"#Run the following two cells to install and import IPython\n",
				"#to view videos in the Sandbox"
			]
		},
		{
			"cell_type": "code",
			"execution_count": null,
			"id": "01e7602f",
			"metadata": {},
			"outputs": [],
			"source": [
				"%pip install ipython"
			]
		},
		{
			"cell_type": "code",
			"execution_count": null,
			"id": "10749a0c",
			"metadata": {},
			"outputs": [],
			"source": [
				"from IPython.display import Video"
			]
		},
		{
			"cell_type": "markdown",
			"id": "c48526ce",
			"metadata": {},
			"source": [
				"# Welcome to Arctic Fox's Python Sandbox 2\n",
				"\n",
				"In this series of sandboxes you will learn how to create custom automations, generate code using a variety of code points, and got through database, chat gpt, and python gui examples."
			]
		},
		{
			"cell_type": "markdown",
			"id": "2865c3db",
			"metadata": {},
			"source": [
				"### Start With Normal Code"
			]
		},
		{
			"cell_type": "markdown",
			"id": "5cc51c32",
			"metadata": {},
			"source": [
				"Let's start by setting up a small use case. When we hit an error while debugging we want to pinpoint when the error occurs. A simple way to do this is to use a number variable, increment the variable each time a line of code is called, and print the variable so we know when it hits an error. \n",
				"\n",
				"Here's a very simple example of hitting an <span style=\"color:red\">error</span>. Run the code below to hit the <span style=\"color:red\">error</span>."
			]
		},
		{
			"cell_type": "code",
			"execution_count": null,
			"id": "c2e97d8e",
			"metadata": {},
			"outputs": [],
			"source": [
				"story = 'Barkley revved the engine, paws gripping the wheel. His furry friends buckled up as he wagged his tail, ready for a road trip adventure.'\n",
				"encodedStory = ''\n",
				"\n",
				"for i in range(story.index('His'), 500):\n",
				"    encodedStory += chr(ord(story[i]) + 1)\n",
				"\n",
				"print(encodedStory)"
			]
		},
		{
			"cell_type": "markdown",
			"id": "906cc322",
			"metadata": {},
			"source": [
				"Okay, so clearly, the string goes out of bounds. To find what iteration this happens, we may track the number of calls with a test variable. Then, we'll print variable to see when the error occurs. \n",
				"\n",
				"Run the code below to display test_iteration before hitting an error: "
			]
		},
		{
			"cell_type": "code",
			"execution_count": null,
			"id": "f0fc4b8a",
			"metadata": {},
			"outputs": [],
			"source": [
				"test_iteration = 0\n",
				"\n",
				"story = 'Barkley revved the engine, paws gripping the wheel. His furry friends buckled up as he wagged his tail, ready for a road trip adventure.'\n",
				"encodedStory = ''\n",
				"\n",
				"for i in range(story.index('His'), 500):\n",
				"    test_iteration += 1\n",
				"    print(test_iteration)\n",
				"\n",
				"    encodedStory += chr(ord(story[i]) + 1)\n",
				"\n",
				"print(encodedStory)"
			]
		},
		{
			"cell_type": "markdown",
			"id": "ef0ff98a",
			"metadata": {},
			"source": [
				"### Create an Automation\n"
			]
		},
		{
			"cell_type": "markdown",
			"id": "04c1693b",
			"metadata": {},
			"source": [
				"For us, we hit an error and the last number printed was 85. **Okay, so how do we turn this into an automation?** We've written this bit of debugging code hundreds of time to speed up debugging, we'd love to automate this.\n",
				"\n",
				"First, we'll add an automation to the code, and then we'll add code to the automation. \n",
				"\n",
				"To add an automation, we will add the automation brackets and then type the automation name.\n",
				"- Add the automation brackets by either: \n",
				"  - Pressing alt+a\n",
				"  - Typing #[ ]\n",
				"\n",
				"Run the cell below and watch the video for an example:"
			]
		},
		{
			"cell_type": "code",
			"execution_count": null,
			"id": "e46a295b",
			"metadata": {},
			"outputs": [],
			"source": [
				"Video('Videos/AddAutomationToCode.mp4')"
			]
		},
		{
			"cell_type": "markdown",
			"id": "2489722c",
			"metadata": {},
			"source": [
				"Now, add an automation named Test to your code after the for loop and above test_iteration += 1. First add the automation brackets, and then type Test between the brackets. "
			]
		},
		{
			"cell_type": "code",
			"execution_count": null,
			"id": "0a62542c",
			"metadata": {},
			"outputs": [],
			"source": [
				"test_iteration = 0\n",
				"\n",
				"story = 'Barkley revved the engine, paws gripping the wheel. His furry friends buckled up as he wagged his tail, ready for a road trip adventure.'\n",
				"encodedStory = ''\n",
				"\n",
				"for i in range(story.index('His'), 500):\n",
				"    #[Test]\n",
				"    test_iteration += 1\n",
				"    print(test_iteration)\n",
				"\n",
				"    encodedStory += chr(ord(story[i]) + 1)\n",
				"\n",
				"print(encodedStory)"
			]
		},
		{
			"cell_type": "markdown",
			"id": "a70cee2f",
			"metadata": {},
			"source": [
				"### Add Code to the Automation"
			]
		},
		{
			"cell_type": "markdown",
			"id": "c6f51b96",
			"metadata": {},
			"source": [
				"\n",
				"Now we are ready to add code to our automation. You can easily add code to automations by doing the following: \n",
				"- Highlight the code you want to add to the automation [**Test**]. \n",
				"- Drag and drop the highlighted code into the middle of [**Test**]. \n",
				"- Watch as a new file is made for the [**Test**] automation and the dropped code added to the automation.\n",
				"\n",
				"Run the cell below to see a video example of dragging and dropping code onto an automation. "
			]
		},
		{
			"cell_type": "code",
			"execution_count": null,
			"id": "24a87467",
			"metadata": {},
			"outputs": [],
			"source": [
				"Video(\"Videos/DragAndDrop.mp4\")"
			]
		},
		{
			"cell_type": "markdown",
			"id": "622bf20c",
			"metadata": {},
			"source": [
				"Let's do two drag and drops. You'll do this within the following Python code block. First, highlight and then drag and drop the following line (int the code block, not here) onto [**Test**].\n",
				"```python \n",
				"test_iteration = 0\n",
				"```\n",
				"\n",
				"Second, highlight and then drag and drop the following lines onto [**Test**].\n",
				"```python\n",
				"test_iteration += 1\n",
				"print(test_iteration)\n",
				"```   "
			]
		},
		{
			"cell_type": "code",
			"execution_count": null,
			"id": "eb583b44",
			"metadata": {},
			"outputs": [],
			"source": [
				"\n",
				"story = 'Barkley revved the engine, paws gripping the wheel. His furry friends buckled up as he wagged his tail, ready for a road trip adventure.'\n",
				"encodedStory = ''\n",
				"\n",
				"for i in range(story.index('His'), 500):\n",
				"\n",
				"    encodedStory += chr(ord(story[i]) + 1)\n",
				"\n",
				"print(encodedStory)"
			]
		},
		{
			"cell_type": "markdown",
			"id": "39ad5069",
			"metadata": {},
			"source": [
				"Run Arctic Fox and see the custom automation generate code! That's it! That's all that is needed to start creating automations. "
			]
		},
		{
			"cell_type": "markdown",
			"id": "4fe66cb3",
			"metadata": {},
			"source": [
				"### Automation Anatomy"
			]
		},
		{
			"cell_type": "markdown",
			"id": "2930b343",
			"metadata": {},
			"source": [
				"Now, you probably saw that test_iteration is set to 0 in the for loop and not at the start of the cell as we would like. Let's first take a look at the strcuture of an automation, line by line, and then we'll modify the [**Test**] automation to place the initialization at the start of the cell. \n",
				"\n",
				"Here's a line by line description of the [**Test**] automation:\n",
				"<hr>"
			]
		},
		{
			"cell_type": "markdown",
			"id": "765f18d8",
			"metadata": {},
			"source": [
				"```python\n",
				"from Icii import *\n",
				"```\n",
				"Imports Arctic Fox framework for<!-- This is commented out. --> Automation \n",
				"<br><br><br>\n",
				"\n",
				"\n",
				"```python\n",
				"class Test(⠀PythonAutomation⠀):  \n",
				"```\n",
				"Automations are classes that inherit from a parent Automation class.The most common parent is PythonAutomation. There are other's, but for now we'll stick with PythonAutomation parent classes.\n",
				"<br><br><br>\n",
				"\n",
				"\n",
				"\n",
				"```python\n",
				"    def ApplyAutomation(self):\n",
				"```\n",
				"The ApplyAutomation function is the main entry point when processing automations. Each automation must implement this function.\n",
				"<br><br><br>\n",
				"\n",
				"\n",
				"```python\n",
				"        with self.CodeAfterAutomation:\n",
				"            test_iteration = 0\n",
				"```\n",
				"To generate code from an automation you use a \"with self.Code...:\" block. There are many entry points available, the default is CodeAfterAutomation. You will see left and right arrows that make it easy to change which self.Code... block you are targetting, and hence, where code will be generated in a file. \n",
				"<br><br><br>\n",
				"            \n",
				"\n",
				"```python\n",
				"        with self.CodeAfterAutomation:\n",
				"            test_iteration += 1\n",
				"            print(test_iteration)\n",
				"```\n",
				"Code that is within a \"with self.CodeAfterAutomation:\" block will be generated right after an automation. This is why all of the code added to the automation was inserted directly after the #[Test] automation.\n",
				"<br><br><br>\n",
				"<hr>"
			]
		},
		{
			"cell_type": "markdown",
			"id": "70b7b14e",
			"metadata": {},
			"source": [
				"### Modify Automation"
			]
		},
		{
			"cell_type": "markdown",
			"id": "1c27b074",
			"metadata": {},
			"source": [
				"One of our goals has always been to enable people to automate code development with tools that are familiar to them. Hence, at the heart of automations are just Python, C#, etc. classes. This enables people to write software in languages familiar to them and enable you to accomplish a wide variety of objectives with automations.\n",
				"\n",
				"We also put in some helper buttons to simplify creating automations. Rather than reading large amounts of documentation, we wanted to give people a way learn about automations through to experiences. Some helper buttons we added are left and right arrows above \"with self.Code...\" blocks. The left and right arrows toggle between different code entry points. \n",
				"\n",
				"Run the code in the cell below and watch the video to see how to move between different entry point options. "
			]
		},
		{
			"cell_type": "code",
			"execution_count": null,
			"id": "47146172",
			"metadata": {},
			"outputs": [],
			"source": [
				"Video('Videos/ChangeCode.mp4')"
			]
		},
		{
			"cell_type": "markdown",
			"id": "6966dfdf",
			"metadata": {},
			"source": [
				"\n",
				"Previously, the line test_iteration = 0 was generated right after the automation, rather than at the start of the cell. \n",
				"\n",
				"In Test.py, use the arrows to generate test_iteration = 0 at the start of the cell with self.CodeCellStart. Make sure to **save** Test.py.\n",
				"\n",
				"\n",
				"Then, add a [**Test**] automation again after the for loop and run Arctic Fox and see the changes in the cell below!"
			]
		},
		{
			"cell_type": "code",
			"execution_count": null,
			"id": "76b0fdde",
			"metadata": {},
			"outputs": [],
			"source": [
				"story = 'Barkley revved the engine, paws gripping the wheel. His furry friends buckled up as he wagged his tail, ready for a road trip adventure.'\n",
				"encodedStory = ''\n",
				"\n",
				"for i in range(story.index('His'), 500):\n",
				"    \n",
				"    encodedStory += chr(ord(story[i]) + 1)\n",
				"\n",
				"print(encodedStory)"
			]
		},
		{
			"cell_type": "markdown",
			"id": "0b083285",
			"metadata": {},
			"source": [
				"That's it! In this Sandbox, we introduced you to creating custom automations by dragging and dropping code onto an automation. We'll continue with this example in the next Sandbox and focus on adding items to automations and conditional logic within an automation. See you there!"
			]
		},
		{
			"cell_type": "code",
			"execution_count": null,
			"id": "15fd0f44",
			"metadata": {},
			"outputs": [],
			"source": [
				"\n"
			]
		}
	],
	"metadata": {
		"kernelspec": {
			"display_name": "Python 3",
			"language": "python",
			"name": "python3"
		},
		"language_info": {
			"codemirror_mode": {
				"name": "ipython",
				"version": 3
			},
			"file_extension": ".py",
			"mimetype": "text/x-python",
			"name": "python",
			"nbconvert_exporter": "python",
			"pygments_lexer": "ipython3",
			"version": "3.10.6"
		},
		"orig_nbformat": 4
	},
	"nbformat": 4,
	"nbformat_minor": 5
}
